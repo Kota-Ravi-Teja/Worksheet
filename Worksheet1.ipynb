{
 "cells": [
  {
   "cell_type": "markdown",
   "metadata": {
    "id": "iJBaW-4OGXI5"
   },
   "source": [
    "**1.Write a python function which should be capable of finding the factorial of any given number as an\n",
    "argument.**"
   ]
  },
  {
   "cell_type": "code",
   "execution_count": 8,
   "metadata": {
    "colab": {
     "base_uri": "https://localhost:8080/"
    },
    "id": "8-goWAgnGWoA",
    "outputId": "01f4ea3c-abde-45ca-d8bc-f39c3139b506"
   },
   "outputs": [
    {
     "name": "stdout",
     "output_type": "stream",
     "text": [
      "Enter the number : 8\n",
      "40320\n"
     ]
    }
   ],
   "source": [
    "def factorial(n):\n",
    "  if n < 0:\n",
    "    return \"Factorial is not defined for negative numbers.\"\n",
    "  elif n == 0:\n",
    "    return 1\n",
    "  else:\n",
    "    result = 1\n",
    "    for i in range(1, n + 1):\n",
    "      result *= i\n",
    "    return result\n",
    "print(factorial(int(input(\"Enter the number : \"))))"
   ]
  },
  {
   "cell_type": "markdown",
   "metadata": {
    "id": "rpnDRMjVG5eI"
   },
   "source": [
    "**2. Luke Skywalker has family and friends. Help him remind them who is who.Given a string with a\n",
    "name, return the relation of that person to Luke.**\n",
    "| Person | Relation |\n",
    "| ------ | ------ |\n",
    "| Darth Vader | father |\n",
    "| Leia | sister |\n",
    "| Han | brother in law |\n",
    "| R2D2 | droid |\n",
    "- Example : relation_to_luke(\"Darth Vader\") ➞ \"Luke, I am your father.\"\n"
   ]
  },
  {
   "cell_type": "code",
   "execution_count": 11,
   "metadata": {
    "colab": {
     "base_uri": "https://localhost:8080/"
    },
    "id": "jTFc-EzfHci3",
    "outputId": "39f7bda5-e0e7-450b-a0bf-147cfd767f6f"
   },
   "outputs": [
    {
     "name": "stdout",
     "output_type": "stream",
     "text": [
      "Luke, I am your father.\n",
      "Luke, I am your Sister\n",
      "Luke, I am your Brother in law\n",
      "Luke, I am your Droid\n",
      "Unknown relation\n"
     ]
    }
   ],
   "source": [
    "def relation_to_luke(name):\n",
    "  if name == \"Darth Vader\":\n",
    "    return \"Luke, I am your father.\"\n",
    "  elif name == \"Leia\":\n",
    "    return \"Luke, I am your Sister\"\n",
    "  elif name == \"Han\":\n",
    "    return \"Luke, I am your Brother in law\"\n",
    "  elif name == \"R2D2\":\n",
    "    return \"Luke, I am your Droid\"\n",
    "  else:\n",
    "    return \"Unknown relation\"\n",
    "print(relation_to_luke(\"Darth Vader\"))\n",
    "print(relation_to_luke(\"Leia\"))\n",
    "print(relation_to_luke(\"Han\"))\n",
    "print(relation_to_luke(\"R2D2\"))\n",
    "print(relation_to_luke(\"Lisa\"))"
   ]
  },
  {
   "cell_type": "markdown",
   "metadata": {
    "id": "rYkxhNu-IHRh"
   },
   "source": [
    "**3.Create a function which takes a number as its argument and return the number of digits in it. Use\n",
    "of len function is not allowed. For example for 5 it should return 1, for 32 it should return 2 and 123 ,\n",
    "3 should be returned and so on.**"
   ]
  },
  {
   "cell_type": "code",
   "execution_count": 14,
   "metadata": {
    "colab": {
     "base_uri": "https://localhost:8080/"
    },
    "id": "wUqBf3XPIGMB",
    "outputId": "adb0a45a-bb9a-4030-bfd2-26f54e878785"
   },
   "outputs": [
    {
     "name": "stdout",
     "output_type": "stream",
     "text": [
      "Enter a number: 4545\n",
      "4\n"
     ]
    }
   ],
   "source": [
    "def count_digits(number):\n",
    "  if number == 0:\n",
    "    return 1\n",
    "  count = 0\n",
    "  if number < 0:\n",
    "    number = -number\n",
    "  while number > 0:\n",
    "    number //= 10\n",
    "    count += 1\n",
    "  return count\n",
    "number = int(input(\"Enter a number: \"))\n",
    "\n",
    "print(count_digits(number))\n"
   ]
  },
  {
   "cell_type": "markdown",
   "metadata": {
    "id": "RQifWXn_IbuH"
   },
   "source": [
    "**4. Write a function which takes a number as argument suppose 5 and gives results as multiplication\n",
    "of factorial of each positive number less than or equal to the number given. i.e !5\\*!4\\*!3\\*!2\\*!1 =\n",
    "34560.**"
   ]
  },
  {
   "cell_type": "code",
   "execution_count": 16,
   "metadata": {
    "colab": {
     "base_uri": "https://localhost:8080/"
    },
    "id": "2hGOzF9MInYN",
    "outputId": "05acfa7d-bdf8-43d4-f299-6a12d379f1e5"
   },
   "outputs": [
    {
     "name": "stdout",
     "output_type": "stream",
     "text": [
      "Enter a number: -1\n",
      "Factorial is not defined for negative numbers.\n"
     ]
    }
   ],
   "source": [
    "def factorial_product(n):\n",
    "  if n < 0:\n",
    "    return \"Factorial is not defined for negative numbers.\"\n",
    "  elif n == 0:\n",
    "    return 1\n",
    "  else:\n",
    "    result = 1\n",
    "    for i in range(1, n + 1):\n",
    "      factorial = 1\n",
    "      for j in range(1, i + 1):\n",
    "        factorial *= j\n",
    "      result *= factorial\n",
    "    return result\n",
    "\n",
    "# Get input from the user\n",
    "number = int(input(\"Enter a number: \"))\n",
    "\n",
    "# Calculate and print the result\n",
    "print(factorial_product(number))\n"
   ]
  },
  {
   "cell_type": "markdown",
   "metadata": {
    "id": "R3vDE2hCI7CF"
   },
   "source": [
    "**5. Write a function which takes any number of arguments from a user and return the result which\n",
    "should be output of a2 + b2+ c2+… if a , b ,c are numbers supplied ..i.e if 1,2,3 are supplied then result\n",
    "returned should be 14. But user may supply any number of inputs so make the function to adapt to\n",
    "that.**"
   ]
  },
  {
   "cell_type": "code",
   "execution_count": 17,
   "metadata": {
    "colab": {
     "base_uri": "https://localhost:8080/"
    },
    "id": "8GSA48FMI7Vf",
    "outputId": "210abe05-2bfb-4506-bdd0-412c9b2f6000"
   },
   "outputs": [
    {
     "name": "stdout",
     "output_type": "stream",
     "text": [
      "14\n",
      "54\n"
     ]
    }
   ],
   "source": [
    "def sum_of_squares(*args):\n",
    "  total = 0\n",
    "  for num in args:\n",
    "    total += num ** 2\n",
    "  return total\n",
    "print(sum_of_squares(1, 2, 3))\n",
    "print(sum_of_squares(2, 3, 4, 5))"
   ]
  },
  {
   "cell_type": "markdown",
   "metadata": {
    "id": "yGtUHH4EJFtR"
   },
   "source": [
    "**6.Write a function which accepts 3 arguments from the user.1 .number 1, 2. Number2 and 3. An\n",
    "operation. The operation supported should be +, -, \\*, and /. The function should return the result of\n",
    "given operation. For example arguments are 3,2,+ then result returned should be 5.**"
   ]
  },
  {
   "cell_type": "code",
   "execution_count": null,
   "metadata": {
    "id": "oq3Nnv5XJFZi"
   },
   "outputs": [],
   "source": [
    "def calculate(num1, num2, operation):\n",
    "  if operation == \"+\":\n",
    "    return num1 + num2\n",
    "  elif operation == \"-\":\n",
    "    return num1 - num2\n",
    "  elif operation == \"*\":\n",
    "    return num1 * num2\n",
    "  elif operation == \"/\":\n",
    "    if num2 == 0:\n",
    "      return \"Division by zero error!\"\n",
    "    else:\n",
    "      return num1 / num2\n",
    "  else:\n",
    "    return \"Invalid operation!\"\n",
    "\n",
    "# Get input from the user\n",
    "num1 = float(input(\"Enter the first number: \"))\n",
    "num2 = float(input(\"Enter the second number: \"))\n",
    "operation = input(\"Enter the operation (+, -, *, /): \")\n",
    "\n",
    "# Calculate and print the result\n",
    "print(calculate(num1, num2, operation))\n"
   ]
  },
  {
   "cell_type": "markdown",
   "metadata": {
    "id": "3v1L9yJdJVb8"
   },
   "source": [
    "**7. Write a function which takes an argument which should be a numeric +ve integer. Depending on\n",
    "the input supplied you have to print “I CAN”, “I WILL”. Suppose some one enters argument as 1 then\n",
    "only “I CAN” should be printed. But if some one enters 2 then first “I CAN” should be printed then “I\n",
    "WILL”. And if someone enters 3 then following should be printed in corresponding order: “I CAN”, “I\n",
    "WILL”, “I CAN” and so on for any numbers entered.**"
   ]
  },
  {
   "cell_type": "code",
   "execution_count": 24,
   "metadata": {
    "colab": {
     "base_uri": "https://localhost:8080/"
    },
    "id": "e8TyBY_WJU8W",
    "outputId": "8a0cdbe8-5291-4072-9740-3b8a7171ba04"
   },
   "outputs": [
    {
     "name": "stdout",
     "output_type": "stream",
     "text": [
      "Enter a positive integer: 5\n",
      "I CAN , I WILL , I CAN , I WILL , I CAN\n"
     ]
    }
   ],
   "source": [
    "def print_i_can_i_will(n):\n",
    "  if n <= 0:\n",
    "    print(\"Please enter a positive integer.\")\n",
    "    return\n",
    "  l=[]\n",
    "  for i in range(1, n + 1):\n",
    "    if i % 2 != 0:\n",
    "      l.append(\"I CAN\")\n",
    "    else:\n",
    "      l.append(\"I WILL\")\n",
    "  print(*l,sep=' , ')\n",
    "\n",
    "# Get input from the user\n",
    "number = int(input(\"Enter a positive integer: \"))\n",
    "\n",
    "# Call the function to print the output\n",
    "print_i_can_i_will(number)\n"
   ]
  },
  {
   "cell_type": "markdown",
   "metadata": {
    "id": "htpMBggMKR7J"
   },
   "source": [
    "**8. We have been given a list of whole numbers which represents the color of each gloves, determine\n",
    "how many pairs of gloves with matching colors there are. For example, there are 7 gloves with\n",
    "colors [1, 2, 1, 2, 1, 3, 2]. There is one pair of color 1 and one of color 2. There are three odd gloves\n",
    "left, one of each color. The number of pairs is 2. Create a function that returns an integer representing\n",
    "the number of matching pairs of gloves that are available**"
   ]
  },
  {
   "cell_type": "code",
   "execution_count": 25,
   "metadata": {
    "colab": {
     "base_uri": "https://localhost:8080/"
    },
    "id": "qylkYZdeKU0-",
    "outputId": "bec9e148-2b69-4887-8b57-be476f63e05d"
   },
   "outputs": [
    {
     "name": "stdout",
     "output_type": "stream",
     "text": [
      "2\n"
     ]
    }
   ],
   "source": [
    "def count_pairs(gloves):\n",
    "  color_counts = {}\n",
    "  pairs = 0\n",
    "  for color in gloves:\n",
    "    if color in color_counts:\n",
    "      color_counts[color] += 1\n",
    "    else:\n",
    "      color_counts[color] = 1\n",
    "    if color_counts[color] % 2 == 0:\n",
    "      pairs += 1\n",
    "  return pairs\n",
    "print(count_pairs([1, 2, 1, 2, 1, 3, 2]))"
   ]
  },
  {
   "cell_type": "markdown",
   "metadata": {
    "id": "MoYwlSisKtsL"
   },
   "source": [
    "**9. Write a function that returns True if two arrays, when combined, form a consecutive sequence. A\n",
    "consecutive sequence is a sequence without any gaps in the integers, e.g. 1, 2, 3, 4, 5 is a\n",
    "consecutive sequence, but 1, 2, 4, 5 is not.**\n",
    "\n",
    "**Notes**\n",
    "- The input lists will have unique values.\n",
    "- The input lists can be in any order."
   ]
  },
  {
   "cell_type": "code",
   "execution_count": 28,
   "metadata": {
    "colab": {
     "base_uri": "https://localhost:8080/"
    },
    "id": "hqTgyxkzKsv-",
    "outputId": "4f67b36d-e831-48cc-f6a3-bbd225496fe3"
   },
   "outputs": [
    {
     "name": "stdout",
     "output_type": "stream",
     "text": [
      "True\n",
      "False\n"
     ]
    }
   ],
   "source": [
    "def is_consecutive_sequence(arr1, arr2):\n",
    "  combined_arr = sorted(arr1 + arr2)\n",
    "  for i in range(len(combined_arr) - 1):\n",
    "    if combined_arr[i + 1] - combined_arr[i] != 1:\n",
    "      return False\n",
    "  return True\n",
    "print(is_consecutive_sequence([1, 2, 3, 4, 5], [6, 7, 0]))\n",
    "print(is_consecutive_sequence([1, 2, 4, 5], [0, 1, 2, 3]))"
   ]
  },
  {
   "cell_type": "markdown",
   "metadata": {
    "id": "C-o0SMFtLRcl"
   },
   "source": [
    "**10. You work for a manufacturer, and have been asked to calculate the total profit made on the sales\n",
    "of a product. You are given a dictionary containing the cost price per unit (in dollars), sell price per\n",
    "unit (in dollars), and the starting inventory. Return the total profit made, rounded to the nearest\n",
    "dollar.**"
   ]
  },
  {
   "cell_type": "code",
   "execution_count": 31,
   "metadata": {
    "colab": {
     "base_uri": "https://localhost:8080/"
    },
    "id": "3Y3R_SqnLPBl",
    "outputId": "50ab3a18-748d-4286-9bc6-bc3cdf581515"
   },
   "outputs": [
    {
     "name": "stdout",
     "output_type": "stream",
     "text": [
      "14796\n"
     ]
    }
   ],
   "source": [
    "def calculate_profit(data):\n",
    "  cost_price = data[\"cost_price\"]\n",
    "  sell_price = data[\"sell_price\"]\n",
    "  inventory = data[\"inventory\"]\n",
    "\n",
    "  total_profit = (sell_price - cost_price) * inventory\n",
    "  return round(total_profit)\n",
    "\n",
    "dic={\n",
    "    \"cost_price\": 32.67,\n",
    "    \"sell_price\": 45.00,\n",
    "    \"inventory\": 1200\n",
    "}\n",
    "print(calculate_profit(dic))"
   ]
  }
 ],
 "metadata": {
  "colab": {
   "provenance": []
  },
  "kernelspec": {
   "display_name": "Python 3 (ipykernel)",
   "language": "python",
   "name": "python3"
  },
  "language_info": {
   "codemirror_mode": {
    "name": "ipython",
    "version": 3
   },
   "file_extension": ".py",
   "mimetype": "text/x-python",
   "name": "python",
   "nbconvert_exporter": "python",
   "pygments_lexer": "ipython3",
   "version": "3.12.4"
  }
 },
 "nbformat": 4,
 "nbformat_minor": 4
}
